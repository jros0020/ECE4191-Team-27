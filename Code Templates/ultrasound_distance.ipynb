{
 "cells": [
  {
   "cell_type": "code",
   "execution_count": 1,
   "metadata": {},
   "outputs": [],
   "source": [
    "import gpiozero\n",
    "import time"
   ]
  },
  {
   "cell_type": "markdown",
   "metadata": {},
   "source": [
    "#### Ultrasound distance sensor interfacing\n",
    "\n",
    "I'll use the [gpiozero](https://gpiozero.readthedocs.io/en/stable/) high level interface to the electronics. If you want more control, consider [RPi.GPIO](https://pypi.org/project/RPi.GPIO/) or [pigpio](http://abyz.me.uk/rpi/pigpio/). The code below returns the distance to objects detected by the ultrasound sensor."
   ]
  },
  {
   "cell_type": "code",
   "execution_count": 2,
   "metadata": {},
   "outputs": [
    {
     "name": "stderr",
     "output_type": "stream",
     "text": [
      "/usr/local/lib/python3.8/dist-packages/gpiozero/input_devices.py:855: PWMSoftwareFallback: For more accurate readings, use the pigpio pin factory.See https://gpiozero.readthedocs.io/en/stable/api_input.html#distancesensor-hc-sr04 for more info\n",
      "  warnings.warn(PWMSoftwareFallback(\n"
     ]
    }
   ],
   "source": [
    "sensor = gpiozero.DistanceSensor(echo=1,trigger=7)\n",
    "# echo (int or str) – The GPIO pin which the ECHO pin is connected to. See Pin Numbering for valid pin numbers. If this is None a GPIODeviceError will be raised.\n",
    "# trigger (int or str) – The GPIO pin which the TRIG pin is connected to. See Pin Numbering for valid pin numbers. If this is None a GPIODeviceError will be raised.\n",
    "# queue_len (int) – The length of the queue used to store values read from the sensor. This defaults to 9.\n",
    "# max_distance (float) – The value attribute reports a normalized value between 0 (too close to measure) and 1 (maximum distance). This parameter specifies the maximum distance expected in meters. This defaults to 1.\n",
    "# threshold_distance (float) – Defaults to 0.3. This is the distance (in meters) that will trigger the in_range and out_of_range events when crossed.\n",
    "# partial (bool) – When False (the default), the object will not return a value for is_active until the internal queue has filled with values. Only set this to True if you require values immediately after object construction.\n",
    "# pin_factory (Factory or None) – See API - Pins for more information (this is an advanced feature which most users can ignore)."
   ]
  },
  {
   "cell_type": "code",
   "execution_count": 3,
   "metadata": {},
   "outputs": [
    {
     "name": "stdout",
     "output_type": "stream",
     "text": [
      "Distance:  100.0\n",
      "Distance:  100.0\n",
      "Distance:  100.0\n",
      "Distance:  100.0\n",
      "Distance:  7.288113480964056\n",
      "Distance:  100.0\n",
      "Distance:  100.0\n",
      "Distance:  8.574669121939223\n",
      "Distance:  3.858740130726801\n",
      "Distance:  2.819451814808417\n"
     ]
    }
   ],
   "source": [
    "for j in range(10):\n",
    "    print('Distance: ', sensor.distance * 100)\n",
    "    time.sleep(1)"
   ]
  }
 ],
 "metadata": {
  "kernelspec": {
   "display_name": "Python 3",
   "language": "python",
   "name": "python3"
  },
  "language_info": {
   "codemirror_mode": {
    "name": "ipython",
    "version": 3
   },
   "file_extension": ".py",
   "mimetype": "text/x-python",
   "name": "python",
   "nbconvert_exporter": "python",
   "pygments_lexer": "ipython3",
   "version": "3.8.5"
  }
 },
 "nbformat": 4,
 "nbformat_minor": 4
}
